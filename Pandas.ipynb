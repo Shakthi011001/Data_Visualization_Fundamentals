import pandas as pd
titanic = pd.read_csv('Titanic.txt', sep='\t')
print(titanic.head())
